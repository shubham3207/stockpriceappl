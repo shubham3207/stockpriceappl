{
 "cells": [
  {
   "cell_type": "code",
   "execution_count": 1,
   "metadata": {
    "id": "zfaJiXeSPzaF"
   },
   "outputs": [],
   "source": [
    "\n",
    "import math\n",
    "import pandas_datareader as web\n",
    "import numpy as np\n",
    "import pandas as pd\n",
    "from datetime import date\n",
    "from datetime import timedelta\n",
    "from sklearn.preprocessing import MinMaxScaler\n",
    "from keras.models import Sequential\n",
    "from keras.layers import Dense, LSTM\n",
    "import matplotlib.pyplot as plt\n",
    "plt.style.use('fivethirtyeight')"
   ]
  },
  {
   "cell_type": "code",
   "execution_count": 2,
   "metadata": {
    "id": "kDIA5FKxP6RH"
   },
   "outputs": [],
   "source": [
    "\n",
    "today = date.today()\n",
    "yesterday = today - timedelta(days = 1)"
   ]
  },
  {
   "cell_type": "code",
   "execution_count": 3,
   "metadata": {
    "colab": {
     "base_uri": "https://localhost:8080/",
     "height": 252
    },
    "id": "fMTXQHCPP-h2",
    "outputId": "224f73ef-dfc8-4200-c539-ad337a7a66c1"
   },
   "outputs": [
    {
     "name": "stdout",
     "output_type": "stream",
     "text": [
      "[*********************100%***********************]  1 of 1 completed\n"
     ]
    },
    {
     "data": {
      "text/html": [
       "<div>\n",
       "<style scoped>\n",
       "    .dataframe tbody tr th:only-of-type {\n",
       "        vertical-align: middle;\n",
       "    }\n",
       "\n",
       "    .dataframe tbody tr th {\n",
       "        vertical-align: top;\n",
       "    }\n",
       "\n",
       "    .dataframe thead th {\n",
       "        text-align: right;\n",
       "    }\n",
       "</style>\n",
       "<table border=\"1\" class=\"dataframe\">\n",
       "  <thead>\n",
       "    <tr style=\"text-align: right;\">\n",
       "      <th></th>\n",
       "      <th>Open</th>\n",
       "      <th>High</th>\n",
       "      <th>Low</th>\n",
       "      <th>Close</th>\n",
       "      <th>Adj Close</th>\n",
       "      <th>Volume</th>\n",
       "    </tr>\n",
       "    <tr>\n",
       "      <th>Date</th>\n",
       "      <th></th>\n",
       "      <th></th>\n",
       "      <th></th>\n",
       "      <th></th>\n",
       "      <th></th>\n",
       "      <th></th>\n",
       "    </tr>\n",
       "  </thead>\n",
       "  <tbody>\n",
       "    <tr>\n",
       "      <th>2012-01-03</th>\n",
       "      <td>14.621429</td>\n",
       "      <td>14.732143</td>\n",
       "      <td>14.607143</td>\n",
       "      <td>14.686786</td>\n",
       "      <td>12.500194</td>\n",
       "      <td>302220800</td>\n",
       "    </tr>\n",
       "    <tr>\n",
       "      <th>2012-01-04</th>\n",
       "      <td>14.642857</td>\n",
       "      <td>14.810000</td>\n",
       "      <td>14.617143</td>\n",
       "      <td>14.765714</td>\n",
       "      <td>12.567369</td>\n",
       "      <td>260022000</td>\n",
       "    </tr>\n",
       "    <tr>\n",
       "      <th>2012-01-05</th>\n",
       "      <td>14.819643</td>\n",
       "      <td>14.948214</td>\n",
       "      <td>14.738214</td>\n",
       "      <td>14.929643</td>\n",
       "      <td>12.706892</td>\n",
       "      <td>271269600</td>\n",
       "    </tr>\n",
       "    <tr>\n",
       "      <th>2012-01-06</th>\n",
       "      <td>14.991786</td>\n",
       "      <td>15.098214</td>\n",
       "      <td>14.972143</td>\n",
       "      <td>15.085714</td>\n",
       "      <td>12.839725</td>\n",
       "      <td>318292800</td>\n",
       "    </tr>\n",
       "    <tr>\n",
       "      <th>2012-01-09</th>\n",
       "      <td>15.196429</td>\n",
       "      <td>15.276786</td>\n",
       "      <td>15.048214</td>\n",
       "      <td>15.061786</td>\n",
       "      <td>12.819364</td>\n",
       "      <td>394024400</td>\n",
       "    </tr>\n",
       "  </tbody>\n",
       "</table>\n",
       "</div>"
      ],
      "text/plain": [
       "                 Open       High        Low      Close  Adj Close     Volume\n",
       "Date                                                                        \n",
       "2012-01-03  14.621429  14.732143  14.607143  14.686786  12.500194  302220800\n",
       "2012-01-04  14.642857  14.810000  14.617143  14.765714  12.567369  260022000\n",
       "2012-01-05  14.819643  14.948214  14.738214  14.929643  12.706892  271269600\n",
       "2012-01-06  14.991786  15.098214  14.972143  15.085714  12.839725  318292800\n",
       "2012-01-09  15.196429  15.276786  15.048214  15.061786  12.819364  394024400"
      ]
     },
     "execution_count": 3,
     "metadata": {},
     "output_type": "execute_result"
    }
   ],
   "source": [
    "import yfinance as yf\n",
    "df = yf.download('AAPL',  start='2012-01-01', end=yesterday)\n",
    "df.head(5)"
   ]
  },
  {
   "cell_type": "code",
   "execution_count": 4,
   "metadata": {
    "colab": {
     "base_uri": "https://localhost:8080/",
     "height": 279
    },
    "id": "jRzUedHV8yMN",
    "outputId": "0cabc331-6946-4078-fad5-d551c841d63d"
   },
   "outputs": [
    {
     "data": {
      "text/html": [
       "<div>\n",
       "<style scoped>\n",
       "    .dataframe tbody tr th:only-of-type {\n",
       "        vertical-align: middle;\n",
       "    }\n",
       "\n",
       "    .dataframe tbody tr th {\n",
       "        vertical-align: top;\n",
       "    }\n",
       "\n",
       "    .dataframe thead th {\n",
       "        text-align: right;\n",
       "    }\n",
       "</style>\n",
       "<table border=\"1\" class=\"dataframe\">\n",
       "  <thead>\n",
       "    <tr style=\"text-align: right;\">\n",
       "      <th></th>\n",
       "      <th>Open</th>\n",
       "      <th>High</th>\n",
       "      <th>Low</th>\n",
       "      <th>Close</th>\n",
       "      <th>Adj Close</th>\n",
       "      <th>Volume</th>\n",
       "    </tr>\n",
       "    <tr>\n",
       "      <th>Date</th>\n",
       "      <th></th>\n",
       "      <th></th>\n",
       "      <th></th>\n",
       "      <th></th>\n",
       "      <th></th>\n",
       "      <th></th>\n",
       "    </tr>\n",
       "  </thead>\n",
       "  <tbody>\n",
       "    <tr>\n",
       "      <th>2023-04-17</th>\n",
       "      <td>165.089996</td>\n",
       "      <td>165.389999</td>\n",
       "      <td>164.029999</td>\n",
       "      <td>165.229996</td>\n",
       "      <td>165.229996</td>\n",
       "      <td>41516200</td>\n",
       "    </tr>\n",
       "    <tr>\n",
       "      <th>2023-04-18</th>\n",
       "      <td>166.100006</td>\n",
       "      <td>167.410004</td>\n",
       "      <td>165.649994</td>\n",
       "      <td>166.470001</td>\n",
       "      <td>166.470001</td>\n",
       "      <td>49923000</td>\n",
       "    </tr>\n",
       "    <tr>\n",
       "      <th>2023-04-19</th>\n",
       "      <td>165.800003</td>\n",
       "      <td>168.160004</td>\n",
       "      <td>165.539993</td>\n",
       "      <td>167.630005</td>\n",
       "      <td>167.630005</td>\n",
       "      <td>47720200</td>\n",
       "    </tr>\n",
       "    <tr>\n",
       "      <th>2023-04-20</th>\n",
       "      <td>166.089996</td>\n",
       "      <td>167.869995</td>\n",
       "      <td>165.559998</td>\n",
       "      <td>166.649994</td>\n",
       "      <td>166.649994</td>\n",
       "      <td>52456400</td>\n",
       "    </tr>\n",
       "    <tr>\n",
       "      <th>2023-04-21</th>\n",
       "      <td>165.050003</td>\n",
       "      <td>166.449997</td>\n",
       "      <td>164.490005</td>\n",
       "      <td>165.020004</td>\n",
       "      <td>165.020004</td>\n",
       "      <td>58311900</td>\n",
       "    </tr>\n",
       "  </tbody>\n",
       "</table>\n",
       "</div>"
      ],
      "text/plain": [
       "                  Open        High         Low       Close   Adj Close  \\\n",
       "Date                                                                     \n",
       "2023-04-17  165.089996  165.389999  164.029999  165.229996  165.229996   \n",
       "2023-04-18  166.100006  167.410004  165.649994  166.470001  166.470001   \n",
       "2023-04-19  165.800003  168.160004  165.539993  167.630005  167.630005   \n",
       "2023-04-20  166.089996  167.869995  165.559998  166.649994  166.649994   \n",
       "2023-04-21  165.050003  166.449997  164.490005  165.020004  165.020004   \n",
       "\n",
       "              Volume  \n",
       "Date                  \n",
       "2023-04-17  41516200  \n",
       "2023-04-18  49923000  \n",
       "2023-04-19  47720200  \n",
       "2023-04-20  52456400  \n",
       "2023-04-21  58311900  "
      ]
     },
     "execution_count": 4,
     "metadata": {},
     "output_type": "execute_result"
    }
   ],
   "source": [
    "df.tail(5)"
   ]
  },
  {
   "cell_type": "code",
   "execution_count": 5,
   "metadata": {
    "colab": {
     "base_uri": "https://localhost:8080/",
     "height": 361
    },
    "id": "buNcjtH-9wM9",
    "outputId": "1cea3756-1711-45fe-fa16-cfed123045fa"
   },
   "outputs": [
    {
     "data": {
      "text/html": [
       "<div>\n",
       "<style scoped>\n",
       "    .dataframe tbody tr th:only-of-type {\n",
       "        vertical-align: middle;\n",
       "    }\n",
       "\n",
       "    .dataframe tbody tr th {\n",
       "        vertical-align: top;\n",
       "    }\n",
       "\n",
       "    .dataframe thead th {\n",
       "        text-align: right;\n",
       "    }\n",
       "</style>\n",
       "<table border=\"1\" class=\"dataframe\">\n",
       "  <thead>\n",
       "    <tr style=\"text-align: right;\">\n",
       "      <th></th>\n",
       "      <th>Open</th>\n",
       "      <th>High</th>\n",
       "      <th>Low</th>\n",
       "      <th>Close</th>\n",
       "      <th>Adj Close</th>\n",
       "      <th>Volume</th>\n",
       "    </tr>\n",
       "  </thead>\n",
       "  <tbody>\n",
       "    <tr>\n",
       "      <th>count</th>\n",
       "      <td>2844.000000</td>\n",
       "      <td>2844.000000</td>\n",
       "      <td>2844.000000</td>\n",
       "      <td>2844.000000</td>\n",
       "      <td>2844.000000</td>\n",
       "      <td>2.844000e+03</td>\n",
       "    </tr>\n",
       "    <tr>\n",
       "      <th>mean</th>\n",
       "      <td>61.053700</td>\n",
       "      <td>61.744758</td>\n",
       "      <td>60.392160</td>\n",
       "      <td>61.097535</td>\n",
       "      <td>59.172570</td>\n",
       "      <td>1.998657e+08</td>\n",
       "    </tr>\n",
       "    <tr>\n",
       "      <th>std</th>\n",
       "      <td>49.592192</td>\n",
       "      <td>50.242187</td>\n",
       "      <td>48.986995</td>\n",
       "      <td>49.647677</td>\n",
       "      <td>50.219338</td>\n",
       "      <td>1.709424e+08</td>\n",
       "    </tr>\n",
       "    <tr>\n",
       "      <th>min</th>\n",
       "      <td>13.856071</td>\n",
       "      <td>14.271429</td>\n",
       "      <td>13.753571</td>\n",
       "      <td>13.947500</td>\n",
       "      <td>12.046194</td>\n",
       "      <td>3.519590e+07</td>\n",
       "    </tr>\n",
       "    <tr>\n",
       "      <th>25%</th>\n",
       "      <td>24.323750</td>\n",
       "      <td>24.547501</td>\n",
       "      <td>24.106875</td>\n",
       "      <td>24.334999</td>\n",
       "      <td>22.097360</td>\n",
       "      <td>9.237205e+07</td>\n",
       "    </tr>\n",
       "    <tr>\n",
       "      <th>50%</th>\n",
       "      <td>38.629999</td>\n",
       "      <td>38.917500</td>\n",
       "      <td>38.330000</td>\n",
       "      <td>38.644999</td>\n",
       "      <td>36.710497</td>\n",
       "      <td>1.367004e+08</td>\n",
       "    </tr>\n",
       "    <tr>\n",
       "      <th>75%</th>\n",
       "      <td>90.058748</td>\n",
       "      <td>91.270000</td>\n",
       "      <td>88.477497</td>\n",
       "      <td>90.122499</td>\n",
       "      <td>88.604815</td>\n",
       "      <td>2.432225e+08</td>\n",
       "    </tr>\n",
       "    <tr>\n",
       "      <th>max</th>\n",
       "      <td>182.630005</td>\n",
       "      <td>182.940002</td>\n",
       "      <td>179.119995</td>\n",
       "      <td>182.009995</td>\n",
       "      <td>180.683853</td>\n",
       "      <td>1.506120e+09</td>\n",
       "    </tr>\n",
       "  </tbody>\n",
       "</table>\n",
       "</div>"
      ],
      "text/plain": [
       "              Open         High          Low        Close    Adj Close  \\\n",
       "count  2844.000000  2844.000000  2844.000000  2844.000000  2844.000000   \n",
       "mean     61.053700    61.744758    60.392160    61.097535    59.172570   \n",
       "std      49.592192    50.242187    48.986995    49.647677    50.219338   \n",
       "min      13.856071    14.271429    13.753571    13.947500    12.046194   \n",
       "25%      24.323750    24.547501    24.106875    24.334999    22.097360   \n",
       "50%      38.629999    38.917500    38.330000    38.644999    36.710497   \n",
       "75%      90.058748    91.270000    88.477497    90.122499    88.604815   \n",
       "max     182.630005   182.940002   179.119995   182.009995   180.683853   \n",
       "\n",
       "             Volume  \n",
       "count  2.844000e+03  \n",
       "mean   1.998657e+08  \n",
       "std    1.709424e+08  \n",
       "min    3.519590e+07  \n",
       "25%    9.237205e+07  \n",
       "50%    1.367004e+08  \n",
       "75%    2.432225e+08  \n",
       "max    1.506120e+09  "
      ]
     },
     "execution_count": 5,
     "metadata": {},
     "output_type": "execute_result"
    }
   ],
   "source": [
    "df.describe()"
   ]
  },
  {
   "cell_type": "code",
   "execution_count": 6,
   "metadata": {
    "colab": {
     "base_uri": "https://localhost:8080/"
    },
    "id": "PNqqpE4BQTYB",
    "outputId": "8238da67-c9f7-4af7-f809-f146fb8cbfd0"
   },
   "outputs": [
    {
     "data": {
      "text/plain": [
       "(2844, 6)"
      ]
     },
     "execution_count": 6,
     "metadata": {},
     "output_type": "execute_result"
    }
   ],
   "source": [
    "df.shape"
   ]
  },
  {
   "cell_type": "code",
   "execution_count": 7,
   "metadata": {
    "colab": {
     "base_uri": "https://localhost:8080/"
    },
    "id": "lxqA0dY8QfH5",
    "outputId": "1f98929c-54f5-4acd-d13b-dac359155279"
   },
   "outputs": [
    {
     "data": {
      "text/plain": [
       "False"
      ]
     },
     "execution_count": 7,
     "metadata": {},
     "output_type": "execute_result"
    }
   ],
   "source": [
    "df.isnull().values.any()"
   ]
  },
  {
   "cell_type": "code",
   "execution_count": 8,
   "metadata": {
    "colab": {
     "base_uri": "https://localhost:8080/"
    },
    "id": "3_GFkLLo8-9x",
    "outputId": "69cf583c-9116-4e4a-bdaa-87fba1d41db7"
   },
   "outputs": [
    {
     "data": {
      "text/plain": [
       "0"
      ]
     },
     "execution_count": 8,
     "metadata": {},
     "output_type": "execute_result"
    }
   ],
   "source": [
    "sum(df.duplicated())"
   ]
  },
  {
   "cell_type": "code",
   "execution_count": 9,
   "metadata": {
    "colab": {
     "base_uri": "https://localhost:8080/",
     "height": 248
    },
    "id": "2Ii2oKEAMhYg",
    "outputId": "3ccd8fe8-316b-46c1-d7a3-e1a5b38793e1"
   },
   "outputs": [
    {
     "data": {
      "text/html": [
       "<div>\n",
       "<style scoped>\n",
       "    .dataframe tbody tr th:only-of-type {\n",
       "        vertical-align: middle;\n",
       "    }\n",
       "\n",
       "    .dataframe tbody tr th {\n",
       "        vertical-align: top;\n",
       "    }\n",
       "\n",
       "    .dataframe thead th {\n",
       "        text-align: right;\n",
       "    }\n",
       "</style>\n",
       "<table border=\"1\" class=\"dataframe\">\n",
       "  <thead>\n",
       "    <tr style=\"text-align: right;\">\n",
       "      <th></th>\n",
       "      <th>Date</th>\n",
       "      <th>Open</th>\n",
       "      <th>High</th>\n",
       "      <th>Low</th>\n",
       "      <th>Close</th>\n",
       "      <th>Adj Close</th>\n",
       "      <th>Volume</th>\n",
       "    </tr>\n",
       "  </thead>\n",
       "  <tbody>\n",
       "    <tr>\n",
       "      <th>0</th>\n",
       "      <td>2012-01-03</td>\n",
       "      <td>14.621429</td>\n",
       "      <td>14.732143</td>\n",
       "      <td>14.607143</td>\n",
       "      <td>14.686786</td>\n",
       "      <td>12.500194</td>\n",
       "      <td>302220800</td>\n",
       "    </tr>\n",
       "    <tr>\n",
       "      <th>1</th>\n",
       "      <td>2012-01-04</td>\n",
       "      <td>14.642857</td>\n",
       "      <td>14.810000</td>\n",
       "      <td>14.617143</td>\n",
       "      <td>14.765714</td>\n",
       "      <td>12.567369</td>\n",
       "      <td>260022000</td>\n",
       "    </tr>\n",
       "    <tr>\n",
       "      <th>2</th>\n",
       "      <td>2012-01-05</td>\n",
       "      <td>14.819643</td>\n",
       "      <td>14.948214</td>\n",
       "      <td>14.738214</td>\n",
       "      <td>14.929643</td>\n",
       "      <td>12.706892</td>\n",
       "      <td>271269600</td>\n",
       "    </tr>\n",
       "    <tr>\n",
       "      <th>3</th>\n",
       "      <td>2012-01-06</td>\n",
       "      <td>14.991786</td>\n",
       "      <td>15.098214</td>\n",
       "      <td>14.972143</td>\n",
       "      <td>15.085714</td>\n",
       "      <td>12.839725</td>\n",
       "      <td>318292800</td>\n",
       "    </tr>\n",
       "    <tr>\n",
       "      <th>4</th>\n",
       "      <td>2012-01-09</td>\n",
       "      <td>15.196429</td>\n",
       "      <td>15.276786</td>\n",
       "      <td>15.048214</td>\n",
       "      <td>15.061786</td>\n",
       "      <td>12.819364</td>\n",
       "      <td>394024400</td>\n",
       "    </tr>\n",
       "  </tbody>\n",
       "</table>\n",
       "</div>"
      ],
      "text/plain": [
       "        Date       Open       High        Low      Close  Adj Close     Volume\n",
       "0 2012-01-03  14.621429  14.732143  14.607143  14.686786  12.500194  302220800\n",
       "1 2012-01-04  14.642857  14.810000  14.617143  14.765714  12.567369  260022000\n",
       "2 2012-01-05  14.819643  14.948214  14.738214  14.929643  12.706892  271269600\n",
       "3 2012-01-06  14.991786  15.098214  14.972143  15.085714  12.839725  318292800\n",
       "4 2012-01-09  15.196429  15.276786  15.048214  15.061786  12.819364  394024400"
      ]
     },
     "execution_count": 9,
     "metadata": {},
     "output_type": "execute_result"
    }
   ],
   "source": [
    "df=df.reset_index()\n",
    "df.head()"
   ]
  },
  {
   "cell_type": "code",
   "execution_count": 10,
   "metadata": {
    "colab": {
     "base_uri": "https://localhost:8080/",
     "height": 204
    },
    "id": "4G4ItzQGMBFm",
    "outputId": "68f62715-6e54-4a1b-f2b4-a961e76eac9f"
   },
   "outputs": [
    {
     "data": {
      "text/html": [
       "<div>\n",
       "<style scoped>\n",
       "    .dataframe tbody tr th:only-of-type {\n",
       "        vertical-align: middle;\n",
       "    }\n",
       "\n",
       "    .dataframe tbody tr th {\n",
       "        vertical-align: top;\n",
       "    }\n",
       "\n",
       "    .dataframe thead th {\n",
       "        text-align: right;\n",
       "    }\n",
       "</style>\n",
       "<table border=\"1\" class=\"dataframe\">\n",
       "  <thead>\n",
       "    <tr style=\"text-align: right;\">\n",
       "      <th></th>\n",
       "      <th>Open</th>\n",
       "      <th>High</th>\n",
       "      <th>Low</th>\n",
       "      <th>Close</th>\n",
       "      <th>Volume</th>\n",
       "    </tr>\n",
       "  </thead>\n",
       "  <tbody>\n",
       "    <tr>\n",
       "      <th>0</th>\n",
       "      <td>14.621429</td>\n",
       "      <td>14.732143</td>\n",
       "      <td>14.607143</td>\n",
       "      <td>14.686786</td>\n",
       "      <td>302220800</td>\n",
       "    </tr>\n",
       "    <tr>\n",
       "      <th>1</th>\n",
       "      <td>14.642857</td>\n",
       "      <td>14.810000</td>\n",
       "      <td>14.617143</td>\n",
       "      <td>14.765714</td>\n",
       "      <td>260022000</td>\n",
       "    </tr>\n",
       "    <tr>\n",
       "      <th>2</th>\n",
       "      <td>14.819643</td>\n",
       "      <td>14.948214</td>\n",
       "      <td>14.738214</td>\n",
       "      <td>14.929643</td>\n",
       "      <td>271269600</td>\n",
       "    </tr>\n",
       "    <tr>\n",
       "      <th>3</th>\n",
       "      <td>14.991786</td>\n",
       "      <td>15.098214</td>\n",
       "      <td>14.972143</td>\n",
       "      <td>15.085714</td>\n",
       "      <td>318292800</td>\n",
       "    </tr>\n",
       "    <tr>\n",
       "      <th>4</th>\n",
       "      <td>15.196429</td>\n",
       "      <td>15.276786</td>\n",
       "      <td>15.048214</td>\n",
       "      <td>15.061786</td>\n",
       "      <td>394024400</td>\n",
       "    </tr>\n",
       "  </tbody>\n",
       "</table>\n",
       "</div>"
      ],
      "text/plain": [
       "        Open       High        Low      Close     Volume\n",
       "0  14.621429  14.732143  14.607143  14.686786  302220800\n",
       "1  14.642857  14.810000  14.617143  14.765714  260022000\n",
       "2  14.819643  14.948214  14.738214  14.929643  271269600\n",
       "3  14.991786  15.098214  14.972143  15.085714  318292800\n",
       "4  15.196429  15.276786  15.048214  15.061786  394024400"
      ]
     },
     "execution_count": 10,
     "metadata": {},
     "output_type": "execute_result"
    }
   ],
   "source": [
    "df=df.drop(['Date','Adj Close'],axis=1)\n",
    "df.head()"
   ]
  },
  {
   "cell_type": "code",
   "execution_count": 11,
   "metadata": {
    "colab": {
     "base_uri": "https://localhost:8080/",
     "height": 335
    },
    "id": "9aYJhg3_QhLH",
    "outputId": "0a530119-77bc-44ca-a6cd-4574a057dbde"
   },
   "outputs": [
    {
     "data": {
      "image/png": "[encoded data removed]",
      "text/plain": [
       "<Figure size 1152x576 with 1 Axes>"
      ]
     },
     "metadata": {},
     "output_type": "display_data"
    }
   ],
   "source": [
    "plt.figure(figsize=(16,8))\n",
    "plt.title('Close price history')\n",
    "plt.plot(df['Close'])\n",
    "plt.xlabel('Date', fontsize=18)\n",
    "plt.ylabel('Close price in USD($)', fontsize=18)\n",
    "plt.show()"
   ]
  },
  {
   "cell_type": "code",
   "execution_count": 12,
   "metadata": {
    "id": "0ds1tdryRVXf"
   },
   "outputs": [],
   "source": [
    "data = df.filter(['Close'])\n",
    "\n",
    "dataset = data.values # convert to numpy array\n",
    "\n",
    "training_data_length = math.ceil(len(dataset) * 0.8)"
   ]
  },
  {
   "cell_type": "code",
   "execution_count": 13,
   "metadata": {
    "id": "gUENSIxFRble"
   },
   "outputs": [],
   "source": [
    "scaler = MinMaxScaler(feature_range=(0,1))\n",
    "scaled_data = scaler.fit_transform(dataset)"
   ]
  },
  {
   "cell_type": "code",
   "execution_count": 14,
   "metadata": {
    "id": "sxKEYKGGRe5g"
   },
   "outputs": [],
   "source": [
    "\n",
    "# create training data set\n",
    "train_data = scaled_data[:training_data_length, :]\n",
    "x_train = [] #independent training variabls\n",
    "y_train = [] #dependent training variables\n",
    "\n",
    "for i in range(60, len(train_data)):\n",
    "  x_train.append(train_data[i-60:i, 0])\n",
    "  y_train.append(train_data[i, 0])\n",
    "\n",
    "#x_train contains 60 values which are used to train the 61th value\n",
    "#   which is stored in y_train variable\n",
    "     "
   ]
  },
  {
   "cell_type": "code",
   "execution_count": 15,
   "metadata": {
    "id": "cICvjFE4Rgfa"
   },
   "outputs": [],
   "source": [
    "#convert x_train and y_train to numpy arrays\n",
    "x_train = np.array(x_train)\n",
    "y_train = np.array(y_train)"
   ]
  },
  {
   "cell_type": "code",
   "execution_count": 16,
   "metadata": {
    "id": "5_R-xVZXRlFj"
   },
   "outputs": [],
   "source": [
    "#Reshape the data as LSTM expects input to be 3D but our current dataset is 2D\n",
    "x_train = np.reshape(x_train, (x_train.shape[0], x_train.shape[1], 1))\n",
    "     "
   ]
  },
  {
   "cell_type": "code",
   "execution_count": 17,
   "metadata": {
    "id": "agrSU2r8RpT5"
   },
   "outputs": [],
   "source": [
    "# Now we will build the LSTM model\n",
    "model = Sequential()\n",
    "model.add(LSTM(50, return_sequences=True, input_shape=(x_train.shape[1],1)))\n",
    "model.add(LSTM(50, return_sequences=False))\n",
    "model.add(Dense(25))\n",
    "model.add(Dense(1))"
   ]
  },
  {
   "cell_type": "code",
   "execution_count": 18,
   "metadata": {
    "id": "NA2al5MZRttX"
   },
   "outputs": [],
   "source": [
    "\n",
    "#Compile the model\n",
    "model.compile(optimizer='adam', loss='mean_squared_error')"
   ]
  },
  {
   "cell_type": "code",
   "execution_count": null,
   "metadata": {
    "colab": {
     "base_uri": "https://localhost:8080/"
    },
    "id": "L0VQyLw9RxNV",
    "outputId": "b3c9460f-2ae4-479d-9d75-61c00963e318"
   },
   "outputs": [
    {
     "name": "stdout",
     "output_type": "stream",
     "text": [
      "Epoch 1/3\n",
      "1155/2216 [==============>...............] - ETA: 32s - loss: 8.2237e-04"
     ]
    }
   ],
   "source": [
    "\n",
    "# Train the model\n",
    "model.fit(x_train, y_train, batch_size=1, epochs=3)"
   ]
  },
  {
   "cell_type": "code",
   "execution_count": null,
   "metadata": {
    "colab": {
     "base_uri": "https://localhost:8080/"
    },
    "id": "XQ5SXFTnOq-S",
    "outputId": "e8dd3d85-e9c6-43cf-8a05-8efcae60c7b8"
   },
   "outputs": [],
   "source": [
    "model.summary()"
   ]
  },
  {
   "cell_type": "code",
   "execution_count": null,
   "metadata": {
    "id": "-G_OLIvyOuw9"
   },
   "outputs": [],
   "source": [
    "model.save('keras_model.h5')"
   ]
  },
  {
   "cell_type": "code",
   "execution_count": null,
   "metadata": {
    "id": "jGwuE3g6Snza"
   },
   "outputs": [],
   "source": [
    "\n",
    "# Create the testing data set\n",
    "# Create a new array containing scaled values from index 1543 to 2003\n",
    "test_data = scaled_data[training_data_length - 60:, :]\n",
    "\n",
    "x_test = []\n",
    "y_test = dataset[training_data_length: , :]\n",
    "\n",
    "for i in range(60, len(test_data)):\n",
    "  x_test.append(test_data[i - 60: i, 0])\n",
    "     "
   ]
  },
  {
   "cell_type": "code",
   "execution_count": null,
   "metadata": {
    "id": "nBoomPdkSpK7"
   },
   "outputs": [],
   "source": [
    "\n",
    "#Convert the data to a numpy array\n",
    "x_test = np.array(x_test)"
   ]
  },
  {
   "cell_type": "code",
   "execution_count": null,
   "metadata": {
    "id": "bVNNhAA_SuB2"
   },
   "outputs": [],
   "source": [
    "# Reshape again to make it 3D\n",
    "x_test = np.reshape(x_test, (x_test.shape[0], x_test.shape[1], 1))"
   ]
  },
  {
   "cell_type": "code",
   "execution_count": null,
   "metadata": {
    "colab": {
     "base_uri": "https://localhost:8080/"
    },
    "id": "tW6pzlQUSwp6",
    "outputId": "f3318c2c-6581-41f6-e5b3-ad22f2843c90"
   },
   "outputs": [],
   "source": [
    "\n",
    "# Get the models predicted price values\n",
    "predictions = model.predict(x_test)\n",
    "predictions = scaler.inverse_transform(predictions) #unscaling values"
   ]
  },
  {
   "cell_type": "code",
   "execution_count": null,
   "metadata": {
    "colab": {
     "base_uri": "https://localhost:8080/"
    },
    "id": "hsMy5re1S5CZ",
    "outputId": "029af50d-2ed3-4822-acde-d9351c734519"
   },
   "outputs": [],
   "source": [
    "# Get the root mean squared error (RMSE)\n",
    "rmse = np.sqrt(np.mean(predictions - y_test) ** 2)\n",
    "rmse"
   ]
  },
  {
   "cell_type": "code",
   "execution_count": null,
   "metadata": {
    "colab": {
     "base_uri": "https://localhost:8080/",
     "height": 474
    },
    "id": "S-2a9JdmS8Jo",
    "outputId": "9b722e52-59d6-4c5d-bf66-944ef09d5232"
   },
   "outputs": [],
   "source": [
    "\n",
    "# Plot the data\n",
    "train = data[:training_data_length]\n",
    "actual_val = data[training_data_length:]\n",
    "actual_val['Predictions'] = predictions\n",
    "\n",
    "plt.figure(figsize=(16,8))\n",
    "plt.title('Model')\n",
    "plt.xlabel('Date', fontsize=18)\n",
    "plt.ylabel('Close Price USD($)', fontsize=18)\n",
    "plt.plot(train['Close'])\n",
    "plt.plot(actual_val[['Close', 'Predictions']])\n",
    "plt.legend(['Training Data', 'Actual Value', 'Predicted Value'], loc = 'lower right')"
   ]
  },
  {
   "cell_type": "code",
   "execution_count": null,
   "metadata": {
    "colab": {
     "base_uri": "https://localhost:8080/",
     "height": 419
    },
    "id": "ZXsVWVRpTCFn",
    "outputId": "13ff276a-c0ae-4f02-87ac-c5813165dd99"
   },
   "outputs": [],
   "source": [
    "# Show the valid and predicted prices\n",
    "actual_val"
   ]
  },
  {
   "cell_type": "code",
   "execution_count": null,
   "metadata": {
    "colab": {
     "base_uri": "https://localhost:8080/"
    },
    "id": "PU9-fM86TH3Z",
    "outputId": "d31fa0d3-3a54-4575-af03-3ebb2caa66d8"
   },
   "outputs": [],
   "source": [
    "\n",
    "# Get the quote\n",
    "apple_quote = yf.download('AAPL',  start='2012-01-01', end=yesterday)\n",
    "new_df = apple_quote.filter(['Close'])\n",
    "\n",
    "last_60_days = new_df[-60:].values #convert to np array\n",
    "last_60_days_scaled = scaler.transform(last_60_days)\n",
    "\n",
    "X_test = []\n",
    "X_test.append(last_60_days_scaled)\n",
    "\n",
    "X_test = np.array(X_test)\n",
    "\n",
    "X_test = np.reshape(X_test, (X_test.shape[0], X_test.shape[1], 1))\n",
    "\n",
    "pred_scale_price = model.predict(X_test)\n",
    "\n",
    "pred_price = scaler.inverse_transform(pred_scale_price)\n",
    "\n",
    "print(pred_price)"
   ]
  }
 ],
 "metadata": {
  "colab": {
   "provenance": []
  },
  "kernelspec": {
   "display_name": "Python 3 (ipykernel)",
   "language": "python",
   "name": "python3"
  },
  "language_info": {
   "codemirror_mode": {
    "name": "ipython",
    "version": 3
   },
   "file_extension": ".py",
   "mimetype": "text/x-python",
   "name": "python",
   "nbconvert_exporter": "python",
   "pygments_lexer": "ipython3",
   "version": "3.9.12"
  }
 },
 "nbformat": 4,
 "nbformat_minor": 1
}
